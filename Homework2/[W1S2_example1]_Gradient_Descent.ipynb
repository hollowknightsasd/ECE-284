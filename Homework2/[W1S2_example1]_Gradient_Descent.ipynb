{
 "cells": [
  {
   "cell_type": "code",
   "execution_count": 1,
   "id": "miniature-siemens",
   "metadata": {},
   "outputs": [
    {
     "name": "stdout",
     "output_type": "stream",
     "text": [
      "0 -th iteration loss: 19.85718540629898\n",
      "100 -th iteration loss: 0.7108623031197715\n",
      "200 -th iteration loss: 0.5750283492811277\n",
      "300 -th iteration loss: 0.46873762514733514\n",
      "400 -th iteration loss: 0.38225425791307516\n",
      "500 -th iteration loss: 0.31188501331254836\n",
      "600 -th iteration loss: 0.2546264190840952\n",
      "700 -th iteration loss: 0.20803497025874712\n",
      "800 -th iteration loss: 0.17012270362948875\n",
      "900 -th iteration loss: 0.13927225025148288\n",
      "1000 -th iteration loss: 0.1141677319329275\n",
      "1100 -th iteration loss: 0.09373854604221638\n",
      "1200 -th iteration loss: 0.07711363441841325\n",
      "1300 -th iteration loss: 0.06358428072985703\n",
      "1400 -th iteration loss: 0.05257384548408414\n",
      "1500 -th iteration loss: 0.04361314467104187\n",
      "1600 -th iteration loss: 0.036320419425412157\n",
      "1700 -th iteration loss: 0.030385040456178146\n",
      "1800 -th iteration loss: 0.025554250717418653\n",
      "1900 -th iteration loss: 0.021622379720017876\n",
      "2000 -th iteration loss: 0.01842206857015993\n",
      "2100 -th iteration loss: 0.01581713078997969\n",
      "2200 -th iteration loss: 0.013696743907430694\n",
      "2300 -th iteration loss: 0.011970723688641879\n",
      "2400 -th iteration loss: 0.010565679160726685\n",
      "2500 -th iteration loss: 0.009421884215968198\n",
      "2600 -th iteration loss: 0.008490732209893789\n",
      "2700 -th iteration loss: 0.007732664875861986\n",
      "2800 -th iteration loss: 0.007115487142896951\n",
      "2900 -th iteration loss: 0.00661299592830946\n",
      "Result: y = -0.01304318914721135 + 0.913866918138056 x + 0.0022501671674982006 x^2 + -0.10145607576025312 x^3\n"
     ]
    },
    {
     "data": {
      "text/plain": [
       "<matplotlib.legend.Legend at 0x7fc171249790>"
      ]
     },
     "execution_count": 1,
     "metadata": {},
     "output_type": "execute_result"
    },
    {
     "data": {
      "image/png": "[encoded data removed]",
      "text/plain": [
       "<Figure size 432x288 with 1 Axes>"
      ]
     },
     "metadata": {
      "needs_background": "light"
     },
     "output_type": "display_data"
    }
   ],
   "source": [
    "import numpy as np  ## numpy is general purpose array processing package\n",
    "import math\n",
    "import matplotlib.pyplot as plt\n",
    "\n",
    "# Create random input and output data\n",
    "x = np.linspace(-math.pi, math.pi, 2000)\n",
    "y = np.sin(x)\n",
    "\n",
    "# Randomly initialize weights: these will be trained\n",
    "a = np.random.randn()\n",
    "b = np.random.randn()\n",
    "c = np.random.randn()\n",
    "d = np.random.randn()\n",
    "\n",
    "learning_rate = 1e-3\n",
    "learning_epoch = 3000\n",
    "\n",
    "for t in range(learning_epoch):\n",
    "    # Forward pass: compute predicted y\n",
    "    # y = a + b x + c x^2 + d x^3\n",
    "    y_pred = a + b * x + c * x ** 2 + d * x ** 3\n",
    "\n",
    "    # Compute and print loss\n",
    "    loss = np.square(y_pred - y).sum()/len(y) # Mean Square Error\n",
    "    if t % 100 == 0:\n",
    "        print(t,'-th iteration loss:', loss)\n",
    "\n",
    "    # Backprop to compute gradients of a, b, c, d with respect to loss\n",
    "    grad_y_pred = 2.0 * (y_pred - y)/len(y)\n",
    "    grad_a = grad_y_pred.sum()\n",
    "    grad_b = (grad_y_pred * x).sum()\n",
    "    grad_c = (grad_y_pred * x ** 2).sum()\n",
    "    grad_d = (grad_y_pred * x ** 3).sum()\n",
    "\n",
    "    # Update weights\n",
    "    a -= learning_rate * grad_a\n",
    "    b -= learning_rate * grad_b\n",
    "    c -= learning_rate * grad_c\n",
    "    d -= learning_rate * grad_d\n",
    "\n",
    "print(f'Result: y = {a} + {b} x + {c} x^2 + {d} x^3')  ## f' allows to embed any variable inside the string.\n",
    "\n",
    "plt.plot(x, y,      label = \"Answer\")\n",
    "plt.plot(x, y_pred, label = \"Predicted\")\n",
    "# show a legend on the plot\n",
    "plt.legend()"
   ]
  },
  {
   "cell_type": "code",
   "execution_count": null,
   "id": "functional-booking",
   "metadata": {},
   "outputs": [],
   "source": []
  },
  {
   "cell_type": "code",
   "execution_count": null,
   "id": "fleet-packet",
   "metadata": {},
   "outputs": [],
   "source": []
  },
  {
   "cell_type": "code",
   "execution_count": null,
   "id": "prostate-survivor",
   "metadata": {},
   "outputs": [],
   "source": []
  },
  {
   "cell_type": "code",
   "execution_count": null,
   "id": "anticipated-light",
   "metadata": {},
   "outputs": [],
   "source": []
  }
 ],
 "metadata": {
  "kernelspec": {
   "display_name": "Python 3",
   "language": "python",
   "name": "python3"
  },
  "language_info": {
   "codemirror_mode": {
    "name": "ipython",
    "version": 3
   },
   "file_extension": ".py",
   "mimetype": "text/x-python",
   "name": "python",
   "nbconvert_exporter": "python",
   "pygments_lexer": "ipython3",
   "version": "3.8.5"
  }
 },
 "nbformat": 4,
 "nbformat_minor": 5
}
